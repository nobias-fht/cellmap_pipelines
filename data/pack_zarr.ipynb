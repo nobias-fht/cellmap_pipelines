{
 "cells": [
  {
   "cell_type": "markdown",
   "metadata": {},
   "source": [
    "# Pack as Zarr"
   ]
  },
  {
   "cell_type": "code",
   "execution_count": 1,
   "metadata": {},
   "outputs": [],
   "source": [
    "import zarr\n",
    "import numpy as np\n",
    "from pathlib import Path\n",
    "from funlib.persistence import prepare_ds\n",
    "from funlib.geometry import Coordinate\n",
    "import json\n",
    "from tifffile import imread\n"
   ]
  },
  {
   "cell_type": "code",
   "execution_count": 3,
   "metadata": {},
   "outputs": [
    {
     "name": "stdout",
     "output_type": "stream",
     "text": [
      "[PosixPath('crop_03'), PosixPath('crop_04'), PosixPath('crop_05'), PosixPath('crop_02'), PosixPath('crop_07'), PosixPath('crop_00'), PosixPath('crop_01'), PosixPath('crop_06')]\n"
     ]
    }
   ],
   "source": [
    "# List all folders\n",
    "folders = [p for p in Path('.').glob('*/') if p.is_dir() and not \".\" in p.name] # avoid .ipynb folder and .zarr\n",
    "print(folders)"
   ]
  },
  {
   "cell_type": "code",
   "execution_count": 4,
   "metadata": {},
   "outputs": [
    {
     "name": "stdout",
     "output_type": "stream",
     "text": [
      "{'pixel_nm': [4, 4, 4], 'crops': {'crop_00': {'z': 0, 'y': 0, 'x': 0}, 'crop_01': {'z': 256, 'y': 0, 'x': 0}, 'crop_02': {'z': 0, 'y': 256, 'x': 0}, 'crop_03': {'z': 256, 'y': 256, 'x': 0}, 'crop_04': {'z': 0, 'y': 0, 'x': 256}, 'crop_05': {'z': 256, 'y': 0, 'x': 256}, 'crop_06': {'z': 0, 'y': 256, 'x': 256}, 'crop_07': {'z': 256, 'y': 256, 'x': 256}}}\n"
     ]
    }
   ],
   "source": [
    "# load metada.json\n",
    "metadata = json.load(open('metadata.json'))\n",
    "print(metadata)"
   ]
  },
  {
   "cell_type": "code",
   "execution_count": 5,
   "metadata": {},
   "outputs": [],
   "source": [
    "# split train and test\n",
    "train_folders = folders[:-2]\n",
    "test_folders = folders[-2:]"
   ]
  },
  {
   "cell_type": "code",
   "execution_count": 10,
   "metadata": {},
   "outputs": [],
   "source": [
    "def add_to_zarr(zarr_file, folders, file_metadata):\n",
    "    axis_names = [\"z\", \"y\", \"x\"]\n",
    "    axis_names_labels = [\"c^\", \"z\", \"y\", \"x\"]\n",
    "    units = [\"nm\", \"nm\", \"nm\"]\n",
    "    voxel_size = Coordinate(*file_metadata['pixel_nm'])\n",
    "\n",
    "    # save train\n",
    "    for folder in folders:\n",
    "        name = folder.name\n",
    "\n",
    "        # load crop and labels\n",
    "        crop = imread(folder / 'crop.tif')\n",
    "        labels = imread(folder / 'labels.tif')\n",
    "\n",
    "        # metadata\n",
    "        offset = Coordinate(\n",
    "            file_metadata['crops'][name][\"z\"],\n",
    "            file_metadata['crops'][name][\"y\"],\n",
    "            file_metadata['crops'][name][\"x\"]\n",
    "        )\n",
    "\n",
    "        # create crop group\n",
    "        store = zarr.DirectoryStore(zarr_file)\n",
    "        root = zarr.group(store=store)\n",
    "        root.create_group(f\"{folder.name}\")\n",
    "\n",
    "        # save crop and labels\n",
    "        zarr_array = prepare_ds(\n",
    "            zarr_file + f\"/{folder.name}/raw\",\n",
    "            crop.shape,\n",
    "            offset=offset,\n",
    "            voxel_size=voxel_size,\n",
    "            axis_names=axis_names,\n",
    "            units=units,\n",
    "            mode=\"w\",\n",
    "            dtype=np.uint8,\n",
    "        )\n",
    "        zarr_array[zarr_array.roi] = crop\n",
    "\n",
    "        zarr_array = prepare_ds(\n",
    "            zarr_file + f\"/{folder.name}/labels\",\n",
    "            labels.shape,\n",
    "            offset=offset,\n",
    "            voxel_size=voxel_size,\n",
    "            axis_names=axis_names_labels,\n",
    "            units=units,\n",
    "            mode=\"w\",\n",
    "            dtype=np.uint8,\n",
    "        )\n",
    "        zarr_array[zarr_array.roi] = labels"
   ]
  },
  {
   "cell_type": "code",
   "execution_count": 11,
   "metadata": {},
   "outputs": [],
   "source": [
    "# create zarr file\n",
    "data = \"image.zarr\"\n",
    "store = zarr.DirectoryStore(data)\n",
    "root = zarr.group(store=store)\n",
    "\n",
    "# Create groups for 'test' and 'train'\n",
    "test_group = root.create_group(\"test\", overwrite=True)\n",
    "train_group = root.create_group(\"train\", overwrite=True)\n",
    "\n",
    "# add folders\n",
    "add_to_zarr(f\"{data}/train\", train_folders, metadata)\n",
    "add_to_zarr(f\"{data}/test\", test_folders, metadata)"
   ]
  },
  {
   "cell_type": "code",
   "execution_count": 12,
   "metadata": {},
   "outputs": [
    {
     "name": "stdout",
     "output_type": "stream",
     "text": [
      "/\n",
      " ├── test\n",
      " │   ├── crop_01\n",
      " │   │   ├── labels (2, 256, 256, 256) uint8\n",
      " │   │   └── raw (256, 256, 256) uint8\n",
      " │   └── crop_06\n",
      " │       ├── labels (2, 256, 256, 256) uint8\n",
      " │       └── raw (256, 256, 256) uint8\n",
      " └── train\n",
      "     ├── crop_00\n",
      "     │   ├── labels (2, 256, 256, 256) uint8\n",
      "     │   └── raw (256, 256, 256) uint8\n",
      "     ├── crop_02\n",
      "     │   ├── labels (2, 256, 256, 256) uint8\n",
      "     │   └── raw (256, 256, 256) uint8\n",
      "     ├── crop_03\n",
      "     │   ├── labels (2, 256, 256, 256) uint8\n",
      "     │   └── raw (256, 256, 256) uint8\n",
      "     ├── crop_04\n",
      "     │   ├── labels (2, 256, 256, 256) uint8\n",
      "     │   └── raw (256, 256, 256) uint8\n",
      "     ├── crop_05\n",
      "     │   ├── labels (2, 256, 256, 256) uint8\n",
      "     │   └── raw (256, 256, 256) uint8\n",
      "     └── crop_07\n",
      "         ├── labels (2, 256, 256, 256) uint8\n",
      "         └── raw (256, 256, 256) uint8\n"
     ]
    }
   ],
   "source": [
    "# show zarr\n",
    "print(zarr.open(Path(\".\") / data).tree())"
   ]
  },
  {
   "cell_type": "code",
   "execution_count": null,
   "metadata": {},
   "outputs": [],
   "source": []
  }
 ],
 "metadata": {
  "kernelspec": {
   "display_name": "dacapo",
   "language": "python",
   "name": "python3"
  },
  "language_info": {
   "codemirror_mode": {
    "name": "ipython",
    "version": 3
   },
   "file_extension": ".py",
   "mimetype": "text/x-python",
   "name": "python",
   "nbconvert_exporter": "python",
   "pygments_lexer": "ipython3",
   "version": "3.10.15"
  }
 },
 "nbformat": 4,
 "nbformat_minor": 4
}
